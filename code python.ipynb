{
 "cells": [
  {
   "cell_type": "markdown",
   "metadata": {},
   "source": [
    "# Algorithme de résolution du problème des 8 reines avec la méthode du Backtrack"
   ]
  },
  {
   "cell_type": "code",
   "execution_count": 1,
   "metadata": {},
   "outputs": [
    {
     "name": "stdout",
     "output_type": "stream",
     "text": [
      "Solution trouvée :\n",
      "Q . . . . . . . \n",
      ". . . . Q . . . \n",
      ". . . . . . . Q \n",
      ". . . . . Q . . \n",
      ". . Q . . . . . \n",
      ". . . . . . Q . \n",
      ". Q . . . . . . \n",
      ". . . Q . . . . \n"
     ]
    }
   ],
   "source": [
    "class HuitReines:\n",
    "    def __init__(self, n=8):\n",
    "        self.n = n\n",
    "        self.plateau = [-1] * self.n  # Initialisation du plateau de jeu\n",
    "\n",
    "    def est_securitaire(self, ligne, colonne):\n",
    "        \"\"\"\n",
    "        Vérifie si placer une reine à la position (ligne, colonne) est sécuritaire.\n",
    "        \"\"\"\n",
    "        for i in range(ligne):\n",
    "            if self.plateau[i] == colonne or \\\n",
    "               self.plateau[i] - i == colonne - ligne or \\\n",
    "               self.plateau[i] + i == colonne + ligne:\n",
    "                return False\n",
    "        return True\n",
    "\n",
    "    def resoudre_huit_reines(self, ligne=0):\n",
    "        \"\"\"\n",
    "        Résout le problème des 8 reines en utilisant la méthode de retour arrière.\n",
    "        \"\"\"\n",
    "        if ligne == self.n:\n",
    "            return True\n",
    "\n",
    "        for colonne in range(self.n):\n",
    "            if self.est_securitaire(ligne, colonne):\n",
    "                self.plateau[ligne] = colonne\n",
    "                if self.resoudre_huit_reines(ligne + 1):\n",
    "                    return True\n",
    "                self.plateau[ligne] = -1\n",
    "\n",
    "        return False\n",
    "\n",
    "    def afficher_solution(self):\n",
    "        \"\"\"\n",
    "        Affiche la solution du problème des 8 reines.\n",
    "        \"\"\"\n",
    "        for i in range(self.n):\n",
    "            ligne_str = \"\"\n",
    "            for j in range(self.n):\n",
    "                if self.plateau[i] == j:\n",
    "                    ligne_str += \"Q \"\n",
    "                else:\n",
    "                    ligne_str += \". \"\n",
    "            print(ligne_str)\n",
    "\n",
    "\n",
    "if __name__ == \"__main__\":\n",
    "    huit_reines = HuitReines()\n",
    "    if huit_reines.resoudre_huit_reines():\n",
    "        print(\"Solution trouvée :\")\n",
    "        huit_reines.afficher_solution()\n",
    "    else:\n",
    "        print(\"Aucune solution n'existe.\")\n"
   ]
  },
  {
   "cell_type": "markdown",
   "metadata": {},
   "source": [
    "# ---------------------------------------------------------------------------------------------------------"
   ]
  }
 ],
 "metadata": {
  "kernelspec": {
   "display_name": "Python 2",
   "language": "python",
   "name": "python2"
  },
  "language_info": {
   "codemirror_mode": {
    "name": "ipython",
    "version": 2
   },
   "file_extension": ".py",
   "mimetype": "text/x-python",
   "name": "python",
   "nbconvert_exporter": "python",
   "pygments_lexer": "ipython2",
   "version": "2.7.18"
  }
 },
 "nbformat": 4,
 "nbformat_minor": 5
}
